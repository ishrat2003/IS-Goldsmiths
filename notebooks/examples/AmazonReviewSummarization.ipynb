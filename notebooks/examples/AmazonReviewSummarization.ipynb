{
 "cells": [
  {
   "cell_type": "code",
   "execution_count": 1,
   "metadata": {},
   "outputs": [],
   "source": [
    "#https://github.com/Tony607/Summarizing_Text_Amazon_Reviews/blob/master/summarize_reviews.ipynb\n",
    "#https://towardsdatascience.com/text-summarization-with-amazon-reviews-41801c2210b\n"
   ]
  },
  {
   "cell_type": "code",
   "execution_count": 2,
   "metadata": {},
   "outputs": [
    {
     "name": "stderr",
     "output_type": "stream",
     "text": [
      "[nltk_data] Downloading package stopwords to /root/nltk_data...\n",
      "[nltk_data]   Package stopwords is already up-to-date!\n"
     ]
    }
   ],
   "source": [
    "import nltk\n",
    "nltk.download('stopwords')\n",
    "    \n",
    "inputFilePath = \"/notebooks/data/amazon/\"\n",
    "inputFileName = \"Review100.csv\"\n",
    "outputFilePath = \"/notebooks/output/amazon/\"\n",
    "internalPackagePath = \"/notebooks/packages\"\n",
    "initEmbeddingPath = \"/notebooks/embeddings/\"\n",
    "prepareData = False\n",
    "prepareEmbedding = True"
   ]
  },
  {
   "cell_type": "code",
   "execution_count": 3,
   "metadata": {},
   "outputs": [],
   "source": [
    "import os, sys\n",
    "dirPath = os.path.dirname(os.path.realpath(\"__file__\"))\n",
    "\n",
    "if not internalPackagePath in sys.path:\n",
    "    sys.path.append(internalPackagePath)"
   ]
  },
  {
   "cell_type": "code",
   "execution_count": 4,
   "metadata": {},
   "outputs": [
    {
     "name": "stdout",
     "output_type": "stream",
     "text": [
      "Total number of unique words: 1429\n",
      "Number of words we will use: 1000\n",
      "Percent of words we will use: 69.98%\n"
     ]
    }
   ],
   "source": [
    "import amazon_review_summarization as ars\n",
    "\n",
    "inputFile = inputFilePath + inputFileName\n",
    "\n",
    "processedFiles = {}\n",
    "vocabWords = {}\n",
    "if prepareData:\n",
    "    cleaner = ars.Cleaner(inputFile, outputFilePath, show = False)\n",
    "    processedFiles['Summary'] = cleaner.saveClean('Summary')\n",
    "    processedFiles['Text'] = cleaner.saveClean('Text')\n",
    "\n",
    "    vocab = ars.Vocab(outputFilePath, processedFiles.values())\n",
    "    vocabWords = vocab.processVocab()\n",
    "    vocabWordsToInt = vocab.getVocabToIndex()\n",
    "    \n",
    "    indexify = ars.Indexify(vocabWordsToInt)\n",
    "    for key in processedFiles.keys():\n",
    "        indexify.process(processedFiles[key], key)\n",
    "    \n",
    "else:\n",
    "    vocab = ars.Vocab(outputFilePath)\n",
    "    vocabWords = vocab.loadVocab(1000)\n",
    "    vocabWordsToInt = vocab.getVocabToIndex()\n",
    "\n",
    "\n",
    "    \n",
    "\n"
   ]
  },
  {
   "cell_type": "code",
   "execution_count": 5,
   "metadata": {},
   "outputs": [
    {
     "name": "stdout",
     "output_type": "stream",
     "text": [
      "Input shape:\n",
      "(99, 10)\n",
      "Input head:\n",
      "   Id   ProductId          UserId                      ProfileName  \\\n",
      "0   1  B001E4KFG0  A3SGXH7AUHU8GW                       delmartian   \n",
      "1   2  B00813GRG4  A1D87F6ZCVE5NK                           dll pa   \n",
      "2   3  B000LQOCH0   ABXLMWJIXXAIN  Natalia Corres \"Natalia Corres\"   \n",
      "3   4  B000UA0QIQ  A395BORC6FGVXV                             Karl   \n",
      "4   5  B006K2ZZ7K  A1UQRSCLF8GW1T    Michael D. Bigham \"M. Wassir\"   \n",
      "\n",
      "   HelpfulnessNumerator  HelpfulnessDenominator  Score        Time  \\\n",
      "0                     1                       1      5  1303862400   \n",
      "1                     0                       0      1  1346976000   \n",
      "2                     1                       1      4  1219017600   \n",
      "3                     3                       3      2  1307923200   \n",
      "4                     0                       0      5  1350777600   \n",
      "\n",
      "                 Summary                                               Text  \n",
      "0  Good Quality Dog Food  I have bought several of the Vitality canned d...  \n",
      "1      Not as Advertised  Product arrived labeled as Jumbo Salted Peanut...  \n",
      "2  \"Delight\" says it all  This is a confection that has been around a fe...  \n",
      "3         Cough Medicine  If you are looking for the secret ingredient i...  \n",
      "4            Great taffy  Great taffy at a great price.  There was a wid...  \n",
      "Null value information:\n",
      "Id                        0\n",
      "ProductId                 0\n",
      "UserId                    0\n",
      "ProfileName               0\n",
      "HelpfulnessNumerator      0\n",
      "HelpfulnessDenominator    0\n",
      "Score                     0\n",
      "Time                      0\n",
      "Summary                   0\n",
      "Text                      0\n",
      "dtype: int64\n",
      "---------------------------------------\n",
      "---------------------------------------\n",
      "Input shape:\n",
      "(99, 2)\n",
      "Input head:\n",
      "                 Summary                                               Text\n",
      "0  Good Quality Dog Food  I have bought several of the Vitality canned d...\n",
      "1      Not as Advertised  Product arrived labeled as Jumbo Salted Peanut...\n",
      "2  \"Delight\" says it all  This is a confection that has been around a fe...\n",
      "3         Cough Medicine  If you are looking for the secret ingredient i...\n",
      "4            Great taffy  Great taffy at a great price.  There was a wid...\n",
      "Null value information:\n",
      "Summary    0\n",
      "Text       0\n",
      "dtype: int64\n",
      "---------------------------------------\n",
      "---------------------------------------\n",
      "Review # 1\n",
      "Good Quality Dog Food\n",
      "I have bought several of the Vitality canned dog food products and have found them all to be of good quality. The product looks more like a stew than a processed meat and it smells better. My Labrador is finicky and she appreciates this product better than  most.\n",
      "---------------------------------------\n",
      "Review # 2\n",
      "Not as Advertised\n",
      "Product arrived labeled as Jumbo Salted Peanuts...the peanuts were actually small sized unsalted. Not sure if this was an error or if the vendor intended to represent the product as \"Jumbo\".\n",
      "---------------------------------------\n",
      "Review # 3\n",
      "\"Delight\" says it all\n",
      "This is a confection that has been around a few centuries.  It is a light, pillowy citrus gelatin with nuts - in this case Filberts. And it is cut into tiny squares and then liberally coated with powdered sugar.  And it is a tiny mouthful of heaven.  Not too chewy, and very flavorful.  I highly recommend this yummy treat.  If you are familiar with the story of C.S. Lewis' \"The Lion, The Witch, and The Wardrobe\" - this is the treat that seduces Edmund into selling out his Brother and Sisters to the Witch.\n",
      "---------------------------------------\n",
      "Review # 4\n",
      "Cough Medicine\n",
      "If you are looking for the secret ingredient in Robitussin I believe I have found it.  I got this in addition to the Root Beer Extract I ordered (which was good) and made some cherry soda.  The flavor is very medicinal.\n",
      "---------------------------------------\n",
      "Review # 5\n",
      "Great taffy\n",
      "Great taffy at a great price.  There was a wide assortment of yummy taffy.  Delivery was very quick.  If your a taffy lover, this is a deal.\n",
      "---------------------------------------\n"
     ]
    }
   ],
   "source": [
    "display = ars.Display(inputFile)\n",
    "display.showReviews(5)"
   ]
  },
  {
   "cell_type": "code",
   "execution_count": 6,
   "metadata": {},
   "outputs": [
    {
     "name": "stdout",
     "output_type": "stream",
     "text": [
      "Word embeddings length: 417195\n",
      "Word embeddings shape: (300,)\n"
     ]
    }
   ],
   "source": [
    "embedding = ars.Embedding(initEmbeddingPath, vocabWords, outputFilePath)\n",
    "if prepareEmbedding: \n",
    "    embedding.load()"
   ]
  },
  {
   "cell_type": "code",
   "execution_count": 7,
   "metadata": {},
   "outputs": [
    {
     "name": "stdout",
     "output_type": "stream",
     "text": [
      "Missing words:\n",
      "Number of words missing from CN: 0\n",
      "Percent of words that are missing from vocabulary: 0.0%\n"
     ]
    }
   ],
   "source": [
    "embedding.missingWords()"
   ]
  },
  {
   "cell_type": "code",
   "execution_count": null,
   "metadata": {},
   "outputs": [],
   "source": []
  },
  {
   "cell_type": "code",
   "execution_count": null,
   "metadata": {},
   "outputs": [],
   "source": []
  },
  {
   "cell_type": "code",
   "execution_count": null,
   "metadata": {},
   "outputs": [],
   "source": []
  }
 ],
 "metadata": {
  "kernelspec": {
   "display_name": "Python 3",
   "language": "python",
   "name": "python3"
  },
  "language_info": {
   "codemirror_mode": {
    "name": "ipython",
    "version": 3
   },
   "file_extension": ".py",
   "mimetype": "text/x-python",
   "name": "python",
   "nbconvert_exporter": "python",
   "pygments_lexer": "ipython3",
   "version": "3.6.7"
  }
 },
 "nbformat": 4,
 "nbformat_minor": 2
}
