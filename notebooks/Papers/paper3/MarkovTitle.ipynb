{
 "cells": [
  {
   "cell_type": "code",
   "execution_count": 1,
   "metadata": {},
   "outputs": [
    {
     "name": "stderr",
     "output_type": "stream",
     "text": [
      "[nltk_data] Downloading package punkt to /root/nltk_data...\n",
      "[nltk_data]   Package punkt is already up-to-date!\n",
      "[nltk_data] Downloading package averaged_perceptron_tagger to\n",
      "[nltk_data]     /root/nltk_data...\n",
      "[nltk_data]   Package averaged_perceptron_tagger is already up-to-\n",
      "[nltk_data]       date!\n"
     ]
    },
    {
     "data": {
      "text/plain": [
       "True"
      ]
     },
     "execution_count": 1,
     "metadata": {},
     "output_type": "execute_result"
    }
   ],
   "source": [
    "import nltk\n",
    "import re\n",
    "import pprint\n",
    "import random\n",
    "import json\n",
    "import pprint\n",
    "import os\n",
    "import sys\n",
    "import glob\n",
    "\n",
    "from nltk import word_tokenize, pos_tag\n",
    "import nltk\n",
    "nltk.download('punkt')\n",
    "nltk.download('averaged_perceptron_tagger')\n"
   ]
  },
  {
   "cell_type": "code",
   "execution_count": 2,
   "metadata": {},
   "outputs": [
    {
     "name": "stderr",
     "output_type": "stream",
     "text": [
      "2019-10-16 21:19:21,887 - DEBUG: Processing all titles.\n",
      "2019-10-16 21:19:21,889 - DEBUG: File - /notebooks/data/Titles/title.txt\n"
     ]
    },
    {
     "name": "stdout",
     "output_type": "stream",
     "text": [
      "/notebooks/data/Titles/title.txt\n",
      "/notebooks/output/posType.txt\n",
      "Finished\n"
     ]
    }
   ],
   "source": [
    "import logging\n",
    "dirPath = os.path.dirname(os.path.realpath(\"__file__\"))\n",
    "dataPath = os.path.abspath(os.path.join(dirPath, '../../', 'data'))\n",
    "datasetPath =  os.path.abspath(os.path.join(dataPath, \"Titles/title.txt\"))\n",
    "outputPath = os.path.abspath(os.path.join(dirPath, '../../', 'output'))\n",
    "packagesPath = os.path.abspath(os.path.join(dirPath, '../../', 'packages'))\n",
    "\n",
    "if not packagesPath in sys.path:\n",
    "    sys.path.append(packagesPath)\n",
    "    \n",
    "from text_generator.posType import PosType\n",
    "\n",
    "keyLen = 3\n",
    "dictionaryFilePath = os.path.abspath(os.path.join(outputPath, \"posType.txt\"))\n",
    "print(datasetPath)\n",
    "print(dictionaryFilePath)\n",
    "\n",
    "markovObj = PosType(keyLen, logging.DEBUG)\n",
    "markovObj.train(datasetPath)\n",
    "markovObj.save(dictionaryFilePath)\n",
    "\n",
    "print('Finished')"
   ]
  },
  {
   "cell_type": "code",
   "execution_count": 3,
   "metadata": {},
   "outputs": [
    {
     "name": "stdout",
     "output_type": "stream",
     "text": [
      "Loaded dictionary file: /notebooks/output/posType.txt\n",
      "VB TO NNP CC DT NNS CC VB IN DT TO JJ JJ CD VBZ DT NNPS\n",
      "NNS VBD NN DT : WP VBZ TO JJ NN JJ IN VBG : NNS POS NNS\n"
     ]
    }
   ],
   "source": [
    "maxWordInSentence = 15\n",
    "genNSentences = 2\n",
    "outputText = []\n",
    "\n",
    "dictionaryFilePath = os.path.abspath(os.path.join(outputPath, \"posType.txt\"))\n",
    "markovObj.load(dictionaryFilePath)\n",
    "for _ in range( genNSentences ):\n",
    "    text = markovObj.genRule(maxWordInSentence) \n",
    "    print(text)\n"
   ]
  },
  {
   "cell_type": "code",
   "execution_count": null,
   "metadata": {},
   "outputs": [],
   "source": []
  }
 ],
 "metadata": {
  "kernelspec": {
   "display_name": "Python 3",
   "language": "python",
   "name": "python3"
  },
  "language_info": {
   "codemirror_mode": {
    "name": "ipython",
    "version": 3
   },
   "file_extension": ".py",
   "mimetype": "text/x-python",
   "name": "python",
   "nbconvert_exporter": "python",
   "pygments_lexer": "ipython3",
   "version": "3.6.8"
  }
 },
 "nbformat": 4,
 "nbformat_minor": 2
}
