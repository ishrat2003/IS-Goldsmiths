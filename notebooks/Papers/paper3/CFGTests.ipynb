{
 "cells": [
  {
   "cell_type": "code",
   "execution_count": 1,
   "metadata": {},
   "outputs": [],
   "source": [
    "from nltk import word_tokenize, pos_tag"
   ]
  },
  {
   "cell_type": "code",
   "execution_count": 2,
   "metadata": {},
   "outputs": [
    {
     "name": "stdout",
     "output_type": "stream",
     "text": [
      "['Natalie', 'Wood', \"'s\", 'sister', 'claims', 'to', 'know', 'actress', \"'\", 'killer']\n"
     ]
    }
   ],
   "source": [
    "text = \"\"\"\n",
    "Natalie Wood's sister claims to know actress' killer\n",
    "\"\"\"\n",
    "\n",
    "words = word_tokenize(text)\n",
    "print(words)\n"
   ]
  },
  {
   "cell_type": "code",
   "execution_count": 3,
   "metadata": {},
   "outputs": [
    {
     "name": "stdout",
     "output_type": "stream",
     "text": [
      "[('Natalie', 'NNP'), ('Wood', 'NNP'), (\"'s\", 'POS'), ('sister', 'NN'), ('claims', 'VBZ'), ('to', 'TO'), ('know', 'VB'), ('actress', 'NN'), (\"'\", \"''\"), ('killer', 'NN')]\n"
     ]
    }
   ],
   "source": [
    "taggedWords = pos_tag(words)\n",
    "\n",
    "print(taggedWords)"
   ]
  },
  {
   "cell_type": "code",
   "execution_count": 4,
   "metadata": {},
   "outputs": [
    {
     "name": "stdout",
     "output_type": "stream",
     "text": [
      "Natalie Wood's sister claims to know actress' killer\n"
     ]
    }
   ],
   "source": [
    "import nltk\n",
    "from nltk.parse.generate import generate, demo_grammar\n",
    "from nltk import CFG\n",
    "grammar = nltk.CFG.fromstring(\"\"\"\n",
    " S -> NNP VBZ TO VB NN\n",
    " TO -> \"to\"\n",
    " NNP -> \"Natalie Wood's sister\"\n",
    " VP -> V NP | V NP PP\n",
    " VBZ -> \"claims\"\n",
    " VB -> \"know\"\n",
    " NN -> \"actress' killer\"\n",
    " \"\"\")\n",
    "\n",
    "for sentence in generate(grammar, n=10):\n",
    "    print(' '.join(sentence))"
   ]
  },
  {
   "cell_type": "code",
   "execution_count": 6,
   "metadata": {},
   "outputs": [
    {
     "data": {
      "text/plain": [
       "\"\\nNew York boy, 5, tests negative for Ebola\\n\\nNoah: 'Russell Crowe is just about the only actor who could have pulled this off'\\n    \\nTurkey’s Erdogan Condemns EU, Pope Francis Over Armenian ‘Genocide’ Label\\n\\nNatalie Wood's sister claims to know actress' killer\\n\""
      ]
     },
     "execution_count": 6,
     "metadata": {},
     "output_type": "execute_result"
    }
   ],
   "source": [
    "'''\n",
    "New York boy, 5, tests negative for Ebola\n",
    "\n",
    "Noah: 'Russell Crowe is just about the only actor who could have pulled this off'\n",
    "    \n",
    "Turkey’s Erdogan Condemns EU, Pope Francis Over Armenian ‘Genocide’ Label\n",
    "\n",
    "Natalie Wood's sister claims to know actress' killer\n",
    "'''"
   ]
  },
  {
   "cell_type": "code",
   "execution_count": null,
   "metadata": {},
   "outputs": [],
   "source": []
  }
 ],
 "metadata": {
  "kernelspec": {
   "display_name": "Python 3",
   "language": "python",
   "name": "python3"
  },
  "language_info": {
   "codemirror_mode": {
    "name": "ipython",
    "version": 3
   },
   "file_extension": ".py",
   "mimetype": "text/x-python",
   "name": "python",
   "nbconvert_exporter": "python",
   "pygments_lexer": "ipython3",
   "version": "3.6.8"
  }
 },
 "nbformat": 4,
 "nbformat_minor": 2
}
