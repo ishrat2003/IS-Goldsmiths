{
 "cells": [
  {
   "cell_type": "code",
   "execution_count": 1,
   "metadata": {},
   "outputs": [
    {
     "name": "stdout",
     "output_type": "stream",
     "text": [
      "1.13.1\n"
     ]
    }
   ],
   "source": [
    "#https://www.tensorflow.org/tutorials/keras/basic_text_classification\n",
    "\n",
    "\n",
    "from __future__ import absolute_import, division, print_function\n",
    "\n",
    "import tensorflow as tf\n",
    "from tensorflow import keras\n",
    "\n",
    "import numpy as np\n",
    "\n",
    "print(tf.__version__)"
   ]
  },
  {
   "cell_type": "code",
   "execution_count": 2,
   "metadata": {},
   "outputs": [
    {
     "name": "stdout",
     "output_type": "stream",
     "text": [
      "Downloading data from https://storage.googleapis.com/tensorflow/tf-keras-datasets/imdb.npz\n",
      "17465344/17464789 [==============================] - 2s 0us/step\n"
     ]
    }
   ],
   "source": [
    "imdb = keras.datasets.imdb\n",
    "\n",
    "(train_data, train_labels), (test_data, test_labels) = imdb.load_data(num_words=10000)"
   ]
  },
  {
   "cell_type": "code",
   "execution_count": 3,
   "metadata": {},
   "outputs": [
    {
     "name": "stdout",
     "output_type": "stream",
     "text": [
      "Training entries: 25000, labels: 25000\n"
     ]
    }
   ],
   "source": [
    "\n",
    "print(\"Training entries: {}, labels: {}\".format(len(train_data), len(train_labels)))"
   ]
  },
  {
   "cell_type": "code",
   "execution_count": 4,
   "metadata": {},
   "outputs": [
    {
     "name": "stdout",
     "output_type": "stream",
     "text": [
      "[1, 14, 22, 16, 43, 530, 973, 1622, 1385, 65, 458, 4468, 66, 3941, 4, 173, 36, 256, 5, 25, 100, 43, 838, 112, 50, 670, 2, 9, 35, 480, 284, 5, 150, 4, 172, 112, 167, 2, 336, 385, 39, 4, 172, 4536, 1111, 17, 546, 38, 13, 447, 4, 192, 50, 16, 6, 147, 2025, 19, 14, 22, 4, 1920, 4613, 469, 4, 22, 71, 87, 12, 16, 43, 530, 38, 76, 15, 13, 1247, 4, 22, 17, 515, 17, 12, 16, 626, 18, 2, 5, 62, 386, 12, 8, 316, 8, 106, 5, 4, 2223, 5244, 16, 480, 66, 3785, 33, 4, 130, 12, 16, 38, 619, 5, 25, 124, 51, 36, 135, 48, 25, 1415, 33, 6, 22, 12, 215, 28, 77, 52, 5, 14, 407, 16, 82, 2, 8, 4, 107, 117, 5952, 15, 256, 4, 2, 7, 3766, 5, 723, 36, 71, 43, 530, 476, 26, 400, 317, 46, 7, 4, 2, 1029, 13, 104, 88, 4, 381, 15, 297, 98, 32, 2071, 56, 26, 141, 6, 194, 7486, 18, 4, 226, 22, 21, 134, 476, 26, 480, 5, 144, 30, 5535, 18, 51, 36, 28, 224, 92, 25, 104, 4, 226, 65, 16, 38, 1334, 88, 12, 16, 283, 5, 16, 4472, 113, 103, 32, 15, 16, 5345, 19, 178, 32]\n"
     ]
    }
   ],
   "source": [
    "print(train_data[0])"
   ]
  },
  {
   "cell_type": "code",
   "execution_count": 5,
   "metadata": {},
   "outputs": [
    {
     "data": {
      "text/plain": [
       "(218, 189)"
      ]
     },
     "execution_count": 5,
     "metadata": {},
     "output_type": "execute_result"
    }
   ],
   "source": [
    "len(train_data[0]), len(train_data[1])"
   ]
  },
  {
   "cell_type": "code",
   "execution_count": 6,
   "metadata": {},
   "outputs": [
    {
     "name": "stdout",
     "output_type": "stream",
     "text": [
      "Downloading data from https://storage.googleapis.com/tensorflow/tf-keras-datasets/imdb_word_index.json\n",
      "1646592/1641221 [==============================] - 0s 0us/step\n"
     ]
    }
   ],
   "source": [
    "# A dictionary mapping words to an integer index\n",
    "word_index = imdb.get_word_index()\n",
    "\n",
    "# The first indices are reserved\n",
    "word_index = {k:(v+3) for k,v in word_index.items()} \n",
    "word_index[\"<PAD>\"] = 0\n",
    "word_index[\"<START>\"] = 1\n",
    "word_index[\"<UNK>\"] = 2  # unknown\n",
    "word_index[\"<UNUSED>\"] = 3\n",
    "\n",
    "reverse_word_index = dict([(value, key) for (key, value) in word_index.items()])\n",
    "\n",
    "def decode_review(text):\n",
    "    return ' '.join([reverse_word_index.get(i, '?') for i in text])"
   ]
  },
  {
   "cell_type": "code",
   "execution_count": 7,
   "metadata": {},
   "outputs": [
    {
     "data": {
      "text/plain": [
       "\"<START> this film was just brilliant casting location scenery story direction everyone's really suited the part they played and you could just imagine being there robert <UNK> is an amazing actor and now the same being director <UNK> father came from the same scottish island as myself so i loved the fact there was a real connection with this film the witty remarks throughout the film were great it was just brilliant so much that i bought the film as soon as it was released for <UNK> and would recommend it to everyone to watch and the fly fishing was amazing really cried at the end it was so sad and you know what they say if you cry at a film it must have been good and this definitely was also <UNK> to the two little boy's that played the <UNK> of norman and paul they were just brilliant children are often left out of the <UNK> list i think because the stars that play them all grown up are such a big profile for the whole film but these children are amazing and should be praised for what they have done don't you think the whole story was so lovely because it was true and was someone's life after all that was shared with us all\""
      ]
     },
     "execution_count": 7,
     "metadata": {},
     "output_type": "execute_result"
    }
   ],
   "source": [
    "decode_review(train_data[0])"
   ]
  },
  {
   "cell_type": "code",
   "execution_count": 8,
   "metadata": {},
   "outputs": [],
   "source": [
    "train_data = keras.preprocessing.sequence.pad_sequences(train_data,\n",
    "                                                        value=word_index[\"<PAD>\"],\n",
    "                                                        padding='post',\n",
    "                                                        maxlen=256)\n",
    "\n",
    "test_data = keras.preprocessing.sequence.pad_sequences(test_data,\n",
    "                                                       value=word_index[\"<PAD>\"],\n",
    "                                                       padding='post',\n",
    "                                                       maxlen=256)"
   ]
  },
  {
   "cell_type": "code",
   "execution_count": 9,
   "metadata": {},
   "outputs": [
    {
     "data": {
      "text/plain": [
       "(256, 256)"
      ]
     },
     "execution_count": 9,
     "metadata": {},
     "output_type": "execute_result"
    }
   ],
   "source": [
    "len(train_data[0]), len(train_data[1])"
   ]
  },
  {
   "cell_type": "code",
   "execution_count": 10,
   "metadata": {},
   "outputs": [
    {
     "name": "stdout",
     "output_type": "stream",
     "text": [
      "[   1   14   22   16   43  530  973 1622 1385   65  458 4468   66 3941\n",
      "    4  173   36  256    5   25  100   43  838  112   50  670    2    9\n",
      "   35  480  284    5  150    4  172  112  167    2  336  385   39    4\n",
      "  172 4536 1111   17  546   38   13  447    4  192   50   16    6  147\n",
      " 2025   19   14   22    4 1920 4613  469    4   22   71   87   12   16\n",
      "   43  530   38   76   15   13 1247    4   22   17  515   17   12   16\n",
      "  626   18    2    5   62  386   12    8  316    8  106    5    4 2223\n",
      " 5244   16  480   66 3785   33    4  130   12   16   38  619    5   25\n",
      "  124   51   36  135   48   25 1415   33    6   22   12  215   28   77\n",
      "   52    5   14  407   16   82    2    8    4  107  117 5952   15  256\n",
      "    4    2    7 3766    5  723   36   71   43  530  476   26  400  317\n",
      "   46    7    4    2 1029   13  104   88    4  381   15  297   98   32\n",
      " 2071   56   26  141    6  194 7486   18    4  226   22   21  134  476\n",
      "   26  480    5  144   30 5535   18   51   36   28  224   92   25  104\n",
      "    4  226   65   16   38 1334   88   12   16  283    5   16 4472  113\n",
      "  103   32   15   16 5345   19  178   32    0    0    0    0    0    0\n",
      "    0    0    0    0    0    0    0    0    0    0    0    0    0    0\n",
      "    0    0    0    0    0    0    0    0    0    0    0    0    0    0\n",
      "    0    0    0    0]\n"
     ]
    }
   ],
   "source": [
    "print(train_data[0])"
   ]
  },
  {
   "cell_type": "code",
   "execution_count": 11,
   "metadata": {},
   "outputs": [
    {
     "name": "stdout",
     "output_type": "stream",
     "text": [
      "WARNING:tensorflow:From /usr/local/lib/python3.6/dist-packages/tensorflow/python/ops/resource_variable_ops.py:435: colocate_with (from tensorflow.python.framework.ops) is deprecated and will be removed in a future version.\n",
      "Instructions for updating:\n",
      "Colocations handled automatically by placer.\n",
      "_________________________________________________________________\n",
      "Layer (type)                 Output Shape              Param #   \n",
      "=================================================================\n",
      "embedding (Embedding)        (None, None, 16)          160000    \n",
      "_________________________________________________________________\n",
      "global_average_pooling1d (Gl (None, 16)                0         \n",
      "_________________________________________________________________\n",
      "dense (Dense)                (None, 16)                272       \n",
      "_________________________________________________________________\n",
      "dense_1 (Dense)              (None, 1)                 17        \n",
      "=================================================================\n",
      "Total params: 160,289\n",
      "Trainable params: 160,289\n",
      "Non-trainable params: 0\n",
      "_________________________________________________________________\n"
     ]
    }
   ],
   "source": [
    "# input shape is the vocabulary count used for the movie reviews (10,000 words)\n",
    "vocab_size = 10000\n",
    "\n",
    "model = keras.Sequential()\n",
    "model.add(keras.layers.Embedding(vocab_size, 16))\n",
    "model.add(keras.layers.GlobalAveragePooling1D())\n",
    "model.add(keras.layers.Dense(16, activation=tf.nn.relu))\n",
    "model.add(keras.layers.Dense(1, activation=tf.nn.sigmoid))\n",
    "\n",
    "model.summary()"
   ]
  },
  {
   "cell_type": "code",
   "execution_count": 12,
   "metadata": {},
   "outputs": [],
   "source": [
    "model.compile(optimizer='adam',\n",
    "              loss='binary_crossentropy',\n",
    "              metrics=['acc'])"
   ]
  },
  {
   "cell_type": "code",
   "execution_count": 13,
   "metadata": {},
   "outputs": [],
   "source": [
    "x_val = train_data[:10000]\n",
    "partial_x_train = train_data[10000:]\n",
    "\n",
    "y_val = train_labels[:10000]\n",
    "partial_y_train = train_labels[10000:]"
   ]
  },
  {
   "cell_type": "code",
   "execution_count": 14,
   "metadata": {},
   "outputs": [
    {
     "name": "stdout",
     "output_type": "stream",
     "text": [
      "Train on 15000 samples, validate on 10000 samples\n",
      "WARNING:tensorflow:From /usr/local/lib/python3.6/dist-packages/tensorflow/python/ops/math_ops.py:3066: to_int32 (from tensorflow.python.ops.math_ops) is deprecated and will be removed in a future version.\n",
      "Instructions for updating:\n",
      "Use tf.cast instead.\n",
      "Epoch 1/40\n",
      "15000/15000 [==============================] - 1s 54us/sample - loss: 0.6917 - acc: 0.6497 - val_loss: 0.6896 - val_acc: 0.7045\n",
      "Epoch 2/40\n",
      "15000/15000 [==============================] - 1s 69us/sample - loss: 0.6861 - acc: 0.7237 - val_loss: 0.6821 - val_acc: 0.7373\n",
      "Epoch 3/40\n",
      "15000/15000 [==============================] - 1s 41us/sample - loss: 0.6745 - acc: 0.7547 - val_loss: 0.6676 - val_acc: 0.7430\n",
      "Epoch 4/40\n",
      "15000/15000 [==============================] - 1s 45us/sample - loss: 0.6545 - acc: 0.7647 - val_loss: 0.6446 - val_acc: 0.7478\n",
      "Epoch 5/40\n",
      "15000/15000 [==============================] - 1s 34us/sample - loss: 0.6246 - acc: 0.7877 - val_loss: 0.6128 - val_acc: 0.7783\n",
      "Epoch 6/40\n",
      "15000/15000 [==============================] - 1s 44us/sample - loss: 0.5855 - acc: 0.8087 - val_loss: 0.5742 - val_acc: 0.7994\n",
      "Epoch 7/40\n",
      "15000/15000 [==============================] - 1s 37us/sample - loss: 0.5401 - acc: 0.8240 - val_loss: 0.5310 - val_acc: 0.8158\n",
      "Epoch 8/40\n",
      "15000/15000 [==============================] - 0s 33us/sample - loss: 0.4932 - acc: 0.8413 - val_loss: 0.4899 - val_acc: 0.8299\n",
      "Epoch 9/40\n",
      "15000/15000 [==============================] - 1s 34us/sample - loss: 0.4486 - acc: 0.8553 - val_loss: 0.4519 - val_acc: 0.8402\n",
      "Epoch 10/40\n",
      "15000/15000 [==============================] - 1s 34us/sample - loss: 0.4086 - acc: 0.8691 - val_loss: 0.4201 - val_acc: 0.8495\n",
      "Epoch 11/40\n",
      "15000/15000 [==============================] - 0s 32us/sample - loss: 0.3745 - acc: 0.8781 - val_loss: 0.3935 - val_acc: 0.8566\n",
      "Epoch 12/40\n",
      "15000/15000 [==============================] - 0s 32us/sample - loss: 0.3456 - acc: 0.8865 - val_loss: 0.3731 - val_acc: 0.8609\n",
      "Epoch 13/40\n",
      "15000/15000 [==============================] - 1s 34us/sample - loss: 0.3220 - acc: 0.8925 - val_loss: 0.3549 - val_acc: 0.8670\n",
      "Epoch 14/40\n",
      "15000/15000 [==============================] - 1s 35us/sample - loss: 0.3008 - acc: 0.8986 - val_loss: 0.3417 - val_acc: 0.8702\n",
      "Epoch 15/40\n",
      "15000/15000 [==============================] - 1s 34us/sample - loss: 0.2833 - acc: 0.9026 - val_loss: 0.3307 - val_acc: 0.8727\n",
      "Epoch 16/40\n",
      "15000/15000 [==============================] - 1s 34us/sample - loss: 0.2676 - acc: 0.9086 - val_loss: 0.3216 - val_acc: 0.8744\n",
      "Epoch 17/40\n",
      "15000/15000 [==============================] - 1s 39us/sample - loss: 0.2531 - acc: 0.9131 - val_loss: 0.3140 - val_acc: 0.8766\n",
      "Epoch 18/40\n",
      "15000/15000 [==============================] - 1s 72us/sample - loss: 0.2403 - acc: 0.9171 - val_loss: 0.3074 - val_acc: 0.8797\n",
      "Epoch 19/40\n",
      "15000/15000 [==============================] - 1s 36us/sample - loss: 0.2289 - acc: 0.9205 - val_loss: 0.3019 - val_acc: 0.8810\n",
      "Epoch 20/40\n",
      "15000/15000 [==============================] - 0s 32us/sample - loss: 0.2185 - acc: 0.9241 - val_loss: 0.2982 - val_acc: 0.8810\n",
      "Epoch 21/40\n",
      "15000/15000 [==============================] - 1s 34us/sample - loss: 0.2081 - acc: 0.9291 - val_loss: 0.2948 - val_acc: 0.8822\n",
      "Epoch 22/40\n",
      "15000/15000 [==============================] - 1s 34us/sample - loss: 0.1993 - acc: 0.9316 - val_loss: 0.2917 - val_acc: 0.8833\n",
      "Epoch 23/40\n",
      "15000/15000 [==============================] - 1s 33us/sample - loss: 0.1904 - acc: 0.9357 - val_loss: 0.2903 - val_acc: 0.8832\n",
      "Epoch 24/40\n",
      "15000/15000 [==============================] - 1s 34us/sample - loss: 0.1828 - acc: 0.9397 - val_loss: 0.2884 - val_acc: 0.8845\n",
      "Epoch 25/40\n",
      "15000/15000 [==============================] - 0s 33us/sample - loss: 0.1749 - acc: 0.9442 - val_loss: 0.2865 - val_acc: 0.8848\n",
      "Epoch 26/40\n",
      "15000/15000 [==============================] - 1s 35us/sample - loss: 0.1680 - acc: 0.9463 - val_loss: 0.2867 - val_acc: 0.8839\n",
      "Epoch 27/40\n",
      "15000/15000 [==============================] - 1s 35us/sample - loss: 0.1613 - acc: 0.9492 - val_loss: 0.2859 - val_acc: 0.8843\n",
      "Epoch 28/40\n",
      "15000/15000 [==============================] - 0s 33us/sample - loss: 0.1549 - acc: 0.9527 - val_loss: 0.2860 - val_acc: 0.8860\n",
      "Epoch 29/40\n",
      "15000/15000 [==============================] - 1s 34us/sample - loss: 0.1494 - acc: 0.9545 - val_loss: 0.2873 - val_acc: 0.8831\n",
      "Epoch 30/40\n",
      "15000/15000 [==============================] - 1s 34us/sample - loss: 0.1436 - acc: 0.9557 - val_loss: 0.2865 - val_acc: 0.8864\n",
      "Epoch 31/40\n",
      "15000/15000 [==============================] - 0s 33us/sample - loss: 0.1378 - acc: 0.9597 - val_loss: 0.2872 - val_acc: 0.8864\n",
      "Epoch 32/40\n",
      "15000/15000 [==============================] - 0s 33us/sample - loss: 0.1325 - acc: 0.9609 - val_loss: 0.2884 - val_acc: 0.8863\n",
      "Epoch 33/40\n",
      "15000/15000 [==============================] - 1s 37us/sample - loss: 0.1273 - acc: 0.9627 - val_loss: 0.2904 - val_acc: 0.8862\n",
      "Epoch 34/40\n",
      "15000/15000 [==============================] - 1s 34us/sample - loss: 0.1228 - acc: 0.9651 - val_loss: 0.2921 - val_acc: 0.8856\n",
      "Epoch 35/40\n",
      "15000/15000 [==============================] - 1s 35us/sample - loss: 0.1186 - acc: 0.9655 - val_loss: 0.2941 - val_acc: 0.8864\n",
      "Epoch 36/40\n",
      "15000/15000 [==============================] - 1s 33us/sample - loss: 0.1140 - acc: 0.9683 - val_loss: 0.2958 - val_acc: 0.8853\n",
      "Epoch 37/40\n",
      "15000/15000 [==============================] - 1s 34us/sample - loss: 0.1096 - acc: 0.9691 - val_loss: 0.2982 - val_acc: 0.8857\n",
      "Epoch 38/40\n",
      "15000/15000 [==============================] - 0s 32us/sample - loss: 0.1055 - acc: 0.9707 - val_loss: 0.3015 - val_acc: 0.8833\n",
      "Epoch 39/40\n",
      "15000/15000 [==============================] - 0s 33us/sample - loss: 0.1023 - acc: 0.9717 - val_loss: 0.3046 - val_acc: 0.8828\n",
      "Epoch 40/40\n",
      "15000/15000 [==============================] - 0s 33us/sample - loss: 0.0981 - acc: 0.9737 - val_loss: 0.3071 - val_acc: 0.8833\n"
     ]
    }
   ],
   "source": [
    "history = model.fit(partial_x_train,\n",
    "                    partial_y_train,\n",
    "                    epochs=40,\n",
    "                    batch_size=512,\n",
    "                    validation_data=(x_val, y_val),\n",
    "                    verbose=1)"
   ]
  },
  {
   "cell_type": "code",
   "execution_count": 15,
   "metadata": {},
   "outputs": [
    {
     "name": "stdout",
     "output_type": "stream",
     "text": [
      "25000/25000 [==============================] - 1s 38us/sample - loss: 0.3277 - acc: 0.8720\n",
      "[0.3277479662322998, 0.87204]\n"
     ]
    }
   ],
   "source": [
    "results = model.evaluate(test_data, test_labels)\n",
    "\n",
    "print(results)"
   ]
  },
  {
   "cell_type": "code",
   "execution_count": 16,
   "metadata": {},
   "outputs": [
    {
     "data": {
      "text/plain": [
       "dict_keys(['loss', 'acc', 'val_loss', 'val_acc'])"
      ]
     },
     "execution_count": 16,
     "metadata": {},
     "output_type": "execute_result"
    }
   ],
   "source": [
    "history_dict = history.history\n",
    "history_dict.keys()"
   ]
  },
  {
   "cell_type": "code",
   "execution_count": 17,
   "metadata": {},
   "outputs": [
    {
     "data": {
      "text/plain": [
       "<Figure size 640x480 with 1 Axes>"
      ]
     },
     "metadata": {},
     "output_type": "display_data"
    }
   ],
   "source": [
    "import matplotlib.pyplot as plt\n",
    "\n",
    "acc = history_dict['acc']\n",
    "val_acc = history_dict['val_acc']\n",
    "loss = history_dict['loss']\n",
    "val_loss = history_dict['val_loss']\n",
    "\n",
    "epochs = range(1, len(acc) + 1)\n",
    "\n",
    "# \"bo\" is for \"blue dot\"\n",
    "plt.plot(epochs, loss, 'bo', label='Training loss')\n",
    "# b is for \"solid blue line\"\n",
    "plt.plot(epochs, val_loss, 'b', label='Validation loss')\n",
    "plt.title('Training and validation loss')\n",
    "plt.xlabel('Epochs')\n",
    "plt.ylabel('Loss')\n",
    "plt.legend()\n",
    "\n",
    "plt.show()"
   ]
  },
  {
   "cell_type": "code",
   "execution_count": 18,
   "metadata": {},
   "outputs": [
    {
     "data": {
      "image/png": "[encoded data removed]",
      "text/plain": [
       "<Figure size 432x288 with 1 Axes>"
      ]
     },
     "metadata": {
      "needs_background": "light"
     },
     "output_type": "display_data"
    }
   ],
   "source": [
    "plt.clf()   # clear figure\n",
    "\n",
    "plt.plot(epochs, acc, 'bo', label='Training acc')\n",
    "plt.plot(epochs, val_acc, 'b', label='Validation acc')\n",
    "plt.title('Training and validation accuracy')\n",
    "plt.xlabel('Epochs')\n",
    "plt.ylabel('Accuracy')\n",
    "plt.legend()\n",
    "\n",
    "plt.show()"
   ]
  },
  {
   "cell_type": "code",
   "execution_count": null,
   "metadata": {},
   "outputs": [],
   "source": []
  }
 ],
 "metadata": {
  "kernelspec": {
   "display_name": "Python 3",
   "language": "python",
   "name": "python3"
  },
  "language_info": {
   "codemirror_mode": {
    "name": "ipython",
    "version": 3
   },
   "file_extension": ".py",
   "mimetype": "text/x-python",
   "name": "python",
   "nbconvert_exporter": "python",
   "pygments_lexer": "ipython3",
   "version": "3.6.7"
  }
 },
 "nbformat": 4,
 "nbformat_minor": 2
}
